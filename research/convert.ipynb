{
 "cells": [
  {
   "cell_type": "code",
   "execution_count": 2,
   "metadata": {},
   "outputs": [
    {
     "name": "stdout",
     "output_type": "stream",
     "text": [
      "Using device: cpu\n",
      "\n"
     ]
    }
   ],
   "source": [
    "import torch\n",
    "device = torch.device('cuda' if torch.cuda.is_available() else 'cpu')\n",
    "print('Using device:', device)\n",
    "print()\n",
    "\n",
    "#Additional Info when using cuda\n",
    "if device.type == 'cuda':\n",
    "    print(torch.cuda.get_device_name(0))\n",
    "    print('Memory Usage:')\n",
    "    print('Allocated:', round(torch.cuda.memory_allocated(0)/1024**3,1), 'GB')\n",
    "    print('Cached:   ', round(torch.cuda.memory_reserved(0)/1024**3,1), 'GB')"
   ]
  },
  {
   "cell_type": "code",
   "execution_count": 20,
   "metadata": {},
   "outputs": [],
   "source": [
    "import torch\n",
    "from torch import nn\n",
    "import torchlibrosa\n",
    "import numpy as np\n",
    "import onnx_coreml\n",
    "\n",
    "\n",
    "class WaveToSpectrogram(nn.Module):\n",
    "\n",
    "    def __init__( self, n_fft, hop_length, center=False ):\n",
    "        super(WaveToSpectrogram, self).__init__()\n",
    "\n",
    "        self.spec_extractor = torchlibrosa.stft.Spectrogram(\n",
    "            n_fft=n_fft,\n",
    "            hop_length=hop_length,\n",
    "            center=center,\n",
    "        )\n",
    "\n",
    "    def forward( self, x ):\n",
    "        return self.spec_extractor( x )\n",
    "    \n",
    "    def convert_to_onnx( self, filename_onnx, sample_input ):\n",
    "        input_names = [ 'input.1' ]\n",
    "        output_names = ['Spectrogram']\n",
    "\n",
    "        torch.onnx.export(\n",
    "            self,\n",
    "            torch.from_numpy( sample_input ),\n",
    "            filename_onnx,\n",
    "            input_names=input_names,\n",
    "            output_names=output_names,                     \n",
    "        )"
   ]
  },
  {
   "cell_type": "code",
   "execution_count": 22,
   "metadata": {},
   "outputs": [],
   "source": [
    "# load in waveform\n",
    "import soundfile\n",
    "waveform, samplerate = soundfile.read( '../urbansound8k/audio/fold1/101415-3-0-2.wav' )\n",
    "sample_input = waveform[:192000].astype( dtype=np.float32).reshape((1, 192000))\n"
   ]
  },
  {
   "cell_type": "code",
   "execution_count": 19,
   "metadata": {},
   "outputs": [
    {
     "name": "stderr",
     "output_type": "stream",
     "text": [
      "/Users/hugo/opt/anaconda3/envs/audio/lib/python3.8/site-packages/torchlibrosa/stft.py:193: FutureWarning: Pass size=1024 as keyword args. From version 0.10 passing these as positional arguments will result in an error\n",
      "  fft_window = librosa.util.pad_center(fft_window, n_fft)\n"
     ]
    }
   ],
   "source": [
    "model = WaveToSpectrogram( n_fft=1024, hop_length=512 )\n",
    "torch.save(model, 'Hello.pt')\n"
   ]
  },
  {
   "attachments": {},
   "cell_type": "markdown",
   "metadata": {},
   "source": [
    "## Convert to Onnx"
   ]
  },
  {
   "cell_type": "code",
   "execution_count": 24,
   "metadata": {},
   "outputs": [],
   "source": [
    "\n",
    "\n",
    "# instantiate model and export it\n",
    "model = WaveToSpectrogram( n_fft=1024, hop_length=512 )\n",
    "\n",
    "model.convert_to_onnx( 'wave_to_spectrogram_model.onnx', sample_input )"
   ]
  },
  {
   "attachments": {},
   "cell_type": "markdown",
   "metadata": {},
   "source": [
    "## Convert to Coreml"
   ]
  },
  {
   "cell_type": "code",
   "execution_count": 26,
   "metadata": {},
   "outputs": [
    {
     "name": "stderr",
     "output_type": "stream",
     "text": [
      "Torch version 1.13.0 has not been tested with coremltools. You may run into unexpected errors. Torch 1.12.1 is the most recent version that has been tested.\n"
     ]
    },
    {
     "ename": "ModuleNotFoundError",
     "evalue": "No module named 'coremltools.converters.nnssa'",
     "output_type": "error",
     "traceback": [
      "\u001b[0;31m---------------------------------------------------------------------------\u001b[0m",
      "\u001b[0;31mModuleNotFoundError\u001b[0m                       Traceback (most recent call last)",
      "Cell \u001b[0;32mIn [26], line 1\u001b[0m\n\u001b[0;32m----> 1\u001b[0m \u001b[39mimport\u001b[39;00m \u001b[39monnx_coreml\u001b[39;00m\n\u001b[1;32m      3\u001b[0m mlmodel \u001b[39m=\u001b[39m onnx_coreml\u001b[39m.\u001b[39mconvert(\n\u001b[1;32m      4\u001b[0m     model \u001b[39m=\u001b[39m \u001b[39m'\u001b[39m\u001b[39mwave_to_spectrogram_model.onnx\u001b[39m\u001b[39m'\u001b[39m,\n\u001b[1;32m      5\u001b[0m     predicted_feature_name \u001b[39m=\u001b[39m [],\n\u001b[1;32m      6\u001b[0m     minimum_ios_deployment_target\u001b[39m=\u001b[39m\u001b[39m'\u001b[39m\u001b[39m13\u001b[39m\u001b[39m'\u001b[39m,    \n\u001b[1;32m      7\u001b[0m )\n\u001b[1;32m      8\u001b[0m mlmodel\u001b[39m.\u001b[39msave( \u001b[39m'\u001b[39m\u001b[39m/wave_to_spec.mlmodel\u001b[39m\u001b[39m'\u001b[39m )\n",
      "File \u001b[0;32m~/opt/anaconda3/envs/audio/lib/python3.8/site-packages/onnx_coreml/__init__.py:6\u001b[0m\n\u001b[1;32m      3\u001b[0m \u001b[39mfrom\u001b[39;00m \u001b[39m__future__\u001b[39;00m \u001b[39mimport\u001b[39;00m print_function\n\u001b[1;32m      4\u001b[0m \u001b[39mfrom\u001b[39;00m \u001b[39m__future__\u001b[39;00m \u001b[39mimport\u001b[39;00m unicode_literals\n\u001b[0;32m----> 6\u001b[0m \u001b[39mfrom\u001b[39;00m \u001b[39m.\u001b[39;00m\u001b[39mconverter\u001b[39;00m \u001b[39mimport\u001b[39;00m convert\n\u001b[1;32m      8\u001b[0m \u001b[39m# onnx-coreml version\u001b[39;00m\n\u001b[1;32m      9\u001b[0m __version__ \u001b[39m=\u001b[39m \u001b[39m'\u001b[39m\u001b[39m1.3\u001b[39m\u001b[39m'\u001b[39m\n",
      "File \u001b[0;32m~/opt/anaconda3/envs/audio/lib/python3.8/site-packages/onnx_coreml/converter.py:35\u001b[0m\n\u001b[1;32m     27\u001b[0m \u001b[39mfrom\u001b[39;00m \u001b[39m.\u001b[39;00m\u001b[39m_transformers\u001b[39;00m \u001b[39mimport\u001b[39;00m ConvAddFuser, DropoutRemover, \\\n\u001b[1;32m     28\u001b[0m     ReshapeInitTensorFuser, BNBroadcastedMulFuser, BNBroadcastedAddFuser, \\\n\u001b[1;32m     29\u001b[0m     PixelShuffleFuser, OutputRenamer, AddModelInputsOutputs, \\\n\u001b[1;32m     30\u001b[0m     ConstantsToInitializers, ImageScalerRemover, ShapeOpRemover, ConstantRemover, \\\n\u001b[1;32m     31\u001b[0m     ConstantFillToInitializers, ReshapeTransposeReshape_pattern1, CastOpRemover, \\\n\u001b[1;32m     32\u001b[0m     DeadCodeElimination, PaddingOpRemover\n\u001b[1;32m     34\u001b[0m \u001b[39m# ML model passes\u001b[39;00m\n\u001b[0;32m---> 35\u001b[0m \u001b[39mfrom\u001b[39;00m \u001b[39mcoremltools\u001b[39;00m\u001b[39m.\u001b[39;00m\u001b[39mconverters\u001b[39;00m\u001b[39m.\u001b[39;00m\u001b[39mnnssa\u001b[39;00m\u001b[39m.\u001b[39;00m\u001b[39mcoreml\u001b[39;00m\u001b[39m.\u001b[39;00m\u001b[39mgraph_pass\u001b[39;00m\u001b[39m.\u001b[39;00m\u001b[39mmlmodel_passes\u001b[39;00m \u001b[39mimport\u001b[39;00m remove_disconnected_layers, transform_conv_crop\n\u001b[1;32m     37\u001b[0m \u001b[39mfrom\u001b[39;00m \u001b[39m.\u001b[39;00m\u001b[39m_error_utils\u001b[39;00m \u001b[39mimport\u001b[39;00m ErrorHandling\n\u001b[1;32m     38\u001b[0m \u001b[39mfrom\u001b[39;00m \u001b[39m.\u001b[39;00m\u001b[39mgraph_viz\u001b[39;00m \u001b[39mimport\u001b[39;00m plot_graph \u001b[39m# type: ignore\u001b[39;00m\n",
      "\u001b[0;31mModuleNotFoundError\u001b[0m: No module named 'coremltools.converters.nnssa'"
     ]
    }
   ],
   "source": [
    "import onnx_coreml\n",
    "\n",
    "mlmodel = onnx_coreml.convert(\n",
    "    model = 'wave_to_spectrogram_model.onnx',\n",
    "    predicted_feature_name = [],\n",
    "    minimum_ios_deployment_target='13',    \n",
    ")\n",
    "mlmodel.save( '/wave_to_spec.mlmodel' )"
   ]
  }
 ],
 "metadata": {
  "kernelspec": {
   "display_name": "base",
   "language": "python",
   "name": "python3"
  },
  "language_info": {
   "codemirror_mode": {
    "name": "ipython",
    "version": 3
   },
   "file_extension": ".py",
   "mimetype": "text/x-python",
   "name": "python",
   "nbconvert_exporter": "python",
   "pygments_lexer": "ipython3",
   "version": "3.8.3 (default, Jul  2 2020, 17:30:36) [MSC v.1916 64 bit (AMD64)]"
  },
  "orig_nbformat": 4,
  "vscode": {
   "interpreter": {
    "hash": "5eeb7423c7e5a3ed6cceabff677ae6d28e51180ac377944b6dd9e00238354362"
   }
  }
 },
 "nbformat": 4,
 "nbformat_minor": 2
}
